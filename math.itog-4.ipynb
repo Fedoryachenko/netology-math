{
 "cells": [
  {
   "cell_type": "code",
   "execution_count": 201,
   "id": "01e62079",
   "metadata": {},
   "outputs": [],
   "source": [
    "import matplotlib.pyplot as plt\n",
    "from numpy import * \n",
    "from sympy import *\n",
    "from scipy.optimize import differential_evolution\n",
    "from scipy.optimize import minimize\n",
    "from scipy.stats import norm\n",
    "from sklearn  import * \n",
    "from scipy.optimize import curve_fit\n",
    "%matplotlib inline"
   ]
  },
  {
   "cell_type": "markdown",
   "id": "cf0bc37a",
   "metadata": {},
   "source": [
    "- Задание 1\n",
    "\n",
    "Вычислите производную функции в точке х = 1\n",
    "\n",
    "\n"
   ]
  },
  {
   "cell_type": "code",
   "execution_count": 202,
   "id": "dcc09796",
   "metadata": {},
   "outputs": [],
   "source": [
    "x = Symbol('x')"
   ]
  },
  {
   "cell_type": "code",
   "execution_count": 203,
   "id": "461ba8de",
   "metadata": {},
   "outputs": [
    {
     "data": {
      "text/latex": [
       "$\\displaystyle 55.39$"
      ],
      "text/plain": [
       "55.39"
      ]
     },
     "execution_count": 203,
     "metadata": {},
     "output_type": "execute_result"
    }
   ],
   "source": [
    "diff = diff(tan(sin(x) + cos(2 * x + 3))** 2).evalf(subs = {'x': 1})\n",
    "\n",
    "round(diff, 2)"
   ]
  },
  {
   "cell_type": "markdown",
   "id": "1f5b2c12",
   "metadata": {},
   "source": [
    "- Задание 2\n",
    "\n",
    "\n",
    "Дан объект в 2D пространстве\n",
    "\n",
    "При помощи матричных операций выполните:\n",
    "\n",
    "\n",
    "Смещение объекта и масштабирование (применить 2 матрицы трансформаций). Смещение на (200, 300) и масштабирование на (0.5, 1.2)"
   ]
  },
  {
   "cell_type": "code",
   "execution_count": 210,
   "id": "86adbae6",
   "metadata": {},
   "outputs": [
    {
     "data": {
      "text/plain": [
       "(-200.0, 200.0)"
      ]
     },
     "execution_count": 210,
     "metadata": {},
     "output_type": "execute_result"
    },
    {
     "data": {
      "image/png": "[encoded data removed]",
      "text/plain": [
       "<Figure size 432x288 with 1 Axes>"
      ]
     },
     "metadata": {
      "needs_background": "light"
     },
     "output_type": "display_data"
    }
   ],
   "source": [
    "A = [\n",
    "[-100, -100, 1],\n",
    "[0, 100, 1],\n",
    "[100, -100, 1],\n",
    "[-100, -100, 1]\n",
    "]\n",
    "\n",
    "A = np.array(A)\n",
    "\n",
    "x = A[:,0]\n",
    "y = A[:,1]\n",
    "plt.plot(x, y)\n",
    "plt.ylim([-200, 200])\n",
    "plt.xlim([-200, 200])"
   ]
  },
  {
   "cell_type": "code",
   "execution_count": 211,
   "id": "2196429f",
   "metadata": {},
   "outputs": [],
   "source": [
    "B =  [[0.5, 0, 0], [0, 1.2, 0], [0, 0, 1]]\n",
    "B = np.array(B)\n"
   ]
  },
  {
   "cell_type": "code",
   "execution_count": 222,
   "id": "6476d743",
   "metadata": {},
   "outputs": [],
   "source": [
    "res = B @ A.transpose()\n",
    "result = res.transpose()\n",
    "A = np.array(result)\n"
   ]
  },
  {
   "cell_type": "code",
   "execution_count": 223,
   "id": "aba7f0c8",
   "metadata": {},
   "outputs": [
    {
     "data": {
      "text/plain": [
       "(-200.0, 200.0)"
      ]
     },
     "execution_count": 223,
     "metadata": {},
     "output_type": "execute_result"
    },
    {
     "data": {
      "image/png": "[encoded data removed]",
      "text/plain": [
       "<Figure size 432x288 with 1 Axes>"
      ]
     },
     "metadata": {
      "needs_background": "light"
     },
     "output_type": "display_data"
    }
   ],
   "source": [
    "x = A[:,0]\n",
    "y = A[:,1]\n",
    "plt.plot(x, y)\n",
    "plt.ylim([-200, 200])\n",
    "plt.xlim([-200, 200])"
   ]
  },
  {
   "cell_type": "code",
   "execution_count": 224,
   "id": "b4a16680",
   "metadata": {},
   "outputs": [],
   "source": [
    "\n",
    "A2 = A + [200, 300, 0]"
   ]
  },
  {
   "cell_type": "code",
   "execution_count": 225,
   "id": "bbb5ac69",
   "metadata": {},
   "outputs": [
    {
     "data": {
      "text/plain": [
       "(100.0, 500.0)"
      ]
     },
     "execution_count": 225,
     "metadata": {},
     "output_type": "execute_result"
    },
    {
     "data": {
      "image/png": "[encoded data removed]",
      "text/plain": [
       "<Figure size 432x288 with 1 Axes>"
      ]
     },
     "metadata": {
      "needs_background": "light"
     },
     "output_type": "display_data"
    }
   ],
   "source": [
    "x = A2[:, 0]\n",
    "y = A2[:, 1]\n",
    "plt.plot(x, y)\n",
    "plt.ylim([100, 500])\n",
    "plt.xlim([100, 500]) "
   ]
  },
  {
   "cell_type": "markdown",
   "id": "652a8fd1",
   "metadata": {},
   "source": [
    "- Задание 3\n",
    "\n",
    "\n",
    "Найдите собственные значения и собственные вектора матрицы:"
   ]
  },
  {
   "cell_type": "code",
   "execution_count": 226,
   "id": "247f0de4",
   "metadata": {},
   "outputs": [
    {
     "data": {
      "text/plain": [
       "array([[1, 4],\n",
       "       [1, 1]])"
      ]
     },
     "execution_count": 226,
     "metadata": {},
     "output_type": "execute_result"
    }
   ],
   "source": [
    "m = np.array([[1, 4],\n",
    "              [1, 1]])\n",
    "m"
   ]
  },
  {
   "cell_type": "code",
   "execution_count": 227,
   "id": "5749ab47",
   "metadata": {},
   "outputs": [
    {
     "data": {
      "text/plain": [
       "(array([ 3., -1.]),\n",
       " array([[ 0.89442719, -0.89442719],\n",
       "        [ 0.4472136 ,  0.4472136 ]]))"
      ]
     },
     "execution_count": 227,
     "metadata": {},
     "output_type": "execute_result"
    }
   ],
   "source": [
    "np.linalg.eig(m)"
   ]
  },
  {
   "cell_type": "markdown",
   "id": "a57d5894",
   "metadata": {},
   "source": [
    "- Задание 4\n",
    "\n",
    "\n",
    "Дана функция с неизвестными параметрами a и b, вам также известны значения функции fx в точках x.\n",
    "\n",
    "\n",
    "Найдите оптимальные параметры a, b, минимизирующие абсолютную ошибку error."
   ]
  },
  {
   "cell_type": "code",
   "execution_count": 228,
   "id": "30d093df",
   "metadata": {},
   "outputs": [],
   "source": [
    "def f(x, a, b):\n",
    "    return np.e**a * np.sin(b*x) + x"
   ]
  },
  {
   "cell_type": "code",
   "execution_count": 229,
   "id": "fef3251d",
   "metadata": {},
   "outputs": [],
   "source": [
    "x = np.array([0.        , 0.26315789, 0.52631579, 0.78947368, 1.05263158,\n",
    "              1.31578947, 1.57894737, 1.84210526, 2.10526316, 2.36842105,\n",
    "              2.63157895, 2.89473684, 3.15789474, 3.42105263, 3.68421053,\n",
    "              3.94736842, 4.21052632, 4.47368421, 4.73684211, 5.        ])\n",
    "\n",
    "fx = np.array([  0.        , -12.01819092, -18.90968634, -17.68786571,\n",
    "                -8.7529108 ,   4.27524517,  16.06801336,  21.81250213,\n",
    "                19.22059845,   9.48411207,  -3.22273056, -13.48576488,\n",
    "               -16.91096359, -11.95866834,  -0.58630088,  12.56873816,\n",
    "                22.12489421,  24.20292139,  18.04522521,   6.33211092])"
   ]
  },
  {
   "cell_type": "code",
   "execution_count": 230,
   "id": "0a68a7ed",
   "metadata": {},
   "outputs": [
    {
     "data": {
      "image/png": "[encoded data removed]",
      "text/plain": [
       "<Figure size 432x288 with 1 Axes>"
      ]
     },
     "metadata": {
      "needs_background": "light"
     },
     "output_type": "display_data"
    }
   ],
   "source": [
    "plt.plot(x, fx)\n",
    "plt.show()"
   ]
  },
  {
   "cell_type": "code",
   "execution_count": 231,
   "id": "597f61c7",
   "metadata": {},
   "outputs": [],
   "source": [
    "def error(params):\n",
    "    return np.sum(np.abs(fx - f(x, params[0], params[1])))"
   ]
  },
  {
   "cell_type": "code",
   "execution_count": 232,
   "id": "f4935b35",
   "metadata": {},
   "outputs": [
    {
     "data": {
      "text/plain": [
       "array([ 3. , -2.5])"
      ]
     },
     "execution_count": 232,
     "metadata": {},
     "output_type": "execute_result"
    }
   ],
   "source": [
    "res  =  minimize(error,  [0,0],  method = 'COBYLA')\n",
    "np.around(res.x, 2)"
   ]
  },
  {
   "cell_type": "markdown",
   "id": "b3006b42",
   "metadata": {},
   "source": [
    "- Задание 5\n",
    "\n",
    "\n",
    "Дана матрица рейтингов фильмов (строки - пользователи (10 человек), столбцы - фильмы (15 фильмов))\n",
    "\n",
    "Необходимо найти наиболее похожего пользователя по косинусной метрике для каждого из пользователей (ответ: 10 пар вида (x, y), где y - наиболее похожий пользователь на пользователя x)."
   ]
  },
  {
   "cell_type": "code",
   "execution_count": 233,
   "id": "2fbaa15a",
   "metadata": {},
   "outputs": [],
   "source": [
    "raitings = np.array([[ 4,  4,  9,  4,  1,  6, 10,  7,  9,  6,  9,  2,  8,  6,  6],\n",
    "                     [ 9,  2,  5, 10,  7,  8, 10,  5,  6,  2,  1,  6,  8,  9,  7],\n",
    "                     [ 1,  6,  8,  8,  4,  9,  3,  8, 10,  5,  2,  6,  8,  1,  6],\n",
    "                     [ 6,  1,  9,  7,  7,  9,  2,  3,  5,  1,  6,  6,  3,  2,  7],\n",
    "                     [ 3,  7,  3,  5,  7,  9,  9,  6,  2,  9,  1,  2,  8, 10,  6],\n",
    "                     [ 8,  3,  7,  3,  8,  6,  1,  8,  8,  6,  1,  9,  4, 10,  1],\n",
    "                     [ 9,  8,  4,  8,  8, 10,  6,  1,  1,  2,  9,  5,  2,  7,  2],\n",
    "                     [ 4,  1,  6,  4,  3, 10,  4,  4,  2,  8,  7,  9,  3,  8,  3],\n",
    "                     [ 2,  7,  7,  6, 10,  6,  8,  9,  8,  6, 10,  1,  7, 10,  4],\n",
    "                     [ 5, 10,  8,  8,  9,  7,  2,  9,  9, 10,  8,  8,  8,  6, 10]])"
   ]
  },
  {
   "cell_type": "code",
   "execution_count": 234,
   "id": "9803666e",
   "metadata": {},
   "outputs": [
    {
     "data": {
      "text/plain": [
       "array([[1.        , 0.82602919, 0.84921529, 0.78340116, 0.81917632,\n",
       "        0.74118548, 0.72735828, 0.80967522, 0.91065982, 0.86010776],\n",
       "       [0.82602919, 1.        , 0.81234325, 0.84635337, 0.87138052,\n",
       "        0.82713107, 0.82629684, 0.80026003, 0.82526308, 0.81968127],\n",
       "       [0.84921529, 0.81234325, 1.        , 0.84669374, 0.78394299,\n",
       "        0.79097985, 0.67616223, 0.76289552, 0.82112077, 0.91873051],\n",
       "       [0.78340116, 0.84635337, 0.84669374, 1.        , 0.69153409,\n",
       "        0.78665792, 0.83274211, 0.82934667, 0.7770666 , 0.8588687 ],\n",
       "       [0.81917632, 0.87138052, 0.78394299, 0.69153409, 1.        ,\n",
       "        0.7764434 , 0.78200468, 0.81236869, 0.87948477, 0.84574789],\n",
       "       [0.74118548, 0.82713107, 0.79097985, 0.78665792, 0.7764434 ,\n",
       "        1.        , 0.74011801, 0.84451685, 0.80622876, 0.85514908],\n",
       "       [0.72735828, 0.82629684, 0.67616223, 0.83274211, 0.78200468,\n",
       "        0.74011801, 1.        , 0.82669174, 0.81130044, 0.79154718],\n",
       "       [0.80967522, 0.80026003, 0.76289552, 0.82934667, 0.81236869,\n",
       "        0.84451685, 0.82669174, 1.        , 0.7981276 , 0.83682229],\n",
       "       [0.91065982, 0.82526308, 0.82112077, 0.7770666 , 0.87948477,\n",
       "        0.80622876, 0.81130044, 0.7981276 , 1.        , 0.90093797],\n",
       "       [0.86010776, 0.81968127, 0.91873051, 0.8588687 , 0.84574789,\n",
       "        0.85514908, 0.79154718, 0.83682229, 0.90093797, 1.        ]])"
      ]
     },
     "execution_count": 234,
     "metadata": {},
     "output_type": "execute_result"
    }
   ],
   "source": [
    "metrics.pairwise.cosine_similarity(raitings)"
   ]
  },
  {
   "cell_type": "code",
   "execution_count": 243,
   "id": "05452e97",
   "metadata": {},
   "outputs": [
    {
     "name": "stdout",
     "output_type": "stream",
     "text": [
      "0 8\n",
      "1 4\n",
      "2 9\n",
      "3 9\n",
      "4 8\n",
      "5 9\n",
      "6 3\n",
      "7 5\n",
      "8 0\n",
      "9 2\n"
     ]
    }
   ],
   "source": [
    "for i, vector in enumerate(pairwise_distances(raitings, metric = \"cosine\")):\n",
    "    print(i, list(vector).index(np.min(vector[np.nonzero(vector)])))\n"
   ]
  },
  {
   "cell_type": "code",
   "execution_count": null,
   "id": "ab8c08f8",
   "metadata": {},
   "outputs": [],
   "source": []
  }
 ],
 "metadata": {
  "kernelspec": {
   "display_name": "Python 3 (ipykernel)",
   "language": "python",
   "name": "python3"
  },
  "language_info": {
   "codemirror_mode": {
    "name": "ipython",
    "version": 3
   },
   "file_extension": ".py",
   "mimetype": "text/x-python",
   "name": "python",
   "nbconvert_exporter": "python",
   "pygments_lexer": "ipython3",
   "version": "3.9.7"
  }
 },
 "nbformat": 4,
 "nbformat_minor": 5
}
