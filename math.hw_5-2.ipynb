{
 "cells": [
  {
   "cell_type": "markdown",
   "id": "c754ec9a",
   "metadata": {},
   "source": [
    "- Задание 1\n",
    "\n",
    "\n",
    "Посчитайте частные производные функций"
   ]
  },
  {
   "cell_type": "code",
   "execution_count": 97,
   "id": "eaf90e20",
   "metadata": {},
   "outputs": [],
   "source": [
    "from sympy import * \n",
    "import numpy as np\n",
    "import matplotlib.pyplot as plt\n",
    "from mpl_toolkits import mplot3d\n",
    "from matplotlib import cm\n",
    "from matplotlib.ticker import LinearLocator"
   ]
  },
  {
   "cell_type": "code",
   "execution_count": 78,
   "id": "447ae4fc",
   "metadata": {},
   "outputs": [],
   "source": [
    "x = Symbol('x')\n",
    "y = Symbol('y')"
   ]
  },
  {
   "cell_type": "code",
   "execution_count": 79,
   "id": "597c3940",
   "metadata": {},
   "outputs": [
    {
     "data": {
      "text/latex": [
       "$\\displaystyle 4 x y^{3} + y^{2} - \\frac{1}{x^{2}}$"
      ],
      "text/plain": [
       "4*x*y**3 + y**2 - 1/x**2"
      ]
     },
     "execution_count": 79,
     "metadata": {},
     "output_type": "execute_result"
    }
   ],
   "source": [
    "diff(2*x**2*y**3 + 1/x + y**2*x + 7, x)"
   ]
  },
  {
   "cell_type": "code",
   "execution_count": 80,
   "id": "424aec5d",
   "metadata": {},
   "outputs": [
    {
     "data": {
      "text/latex": [
       "$\\displaystyle 6 x^{2} y^{2} + 2 x y$"
      ],
      "text/plain": [
       "6*x**2*y**2 + 2*x*y"
      ]
     },
     "execution_count": 80,
     "metadata": {},
     "output_type": "execute_result"
    }
   ],
   "source": [
    "diff(2*x**2*y**3 + 1/x + y**2*x + 7, y)"
   ]
  },
  {
   "cell_type": "code",
   "execution_count": 81,
   "id": "5ba814cf",
   "metadata": {},
   "outputs": [
    {
     "data": {
      "text/latex": [
       "$\\displaystyle 2 x y - 2 x \\sin{\\left(x^{2} \\right)} - y \\cos{\\left(x y \\right)}$"
      ],
      "text/plain": [
       "2*x*y - 2*x*sin(x**2) - y*cos(x*y)"
      ]
     },
     "execution_count": 81,
     "metadata": {},
     "output_type": "execute_result"
    }
   ],
   "source": [
    "diff(x**2*y - sin(x*y) + cos(x**2) +6*y, x)"
   ]
  },
  {
   "cell_type": "code",
   "execution_count": 82,
   "id": "262dc899",
   "metadata": {},
   "outputs": [
    {
     "data": {
      "text/latex": [
       "$\\displaystyle x^{2} - x \\cos{\\left(x y \\right)} + 6$"
      ],
      "text/plain": [
       "x**2 - x*cos(x*y) + 6"
      ]
     },
     "execution_count": 82,
     "metadata": {},
     "output_type": "execute_result"
    }
   ],
   "source": [
    "diff(x**2*y - sin(x*y) + cos(x**2) +6*y, y)"
   ]
  },
  {
   "cell_type": "markdown",
   "id": "e57b1eeb",
   "metadata": {},
   "source": [
    "- Задание 2 \n",
    "\n",
    "\n",
    "Вычислите градиент функции:"
   ]
  },
  {
   "cell_type": "code",
   "execution_count": 83,
   "id": "563eae00",
   "metadata": {},
   "outputs": [
    {
     "name": "stdout",
     "output_type": "stream",
     "text": [
      "Градиент в точке 1, 2 равен(35.0000000000000, 28.0000000000000)\n"
     ]
    }
   ],
   "source": [
    "fx = 2 * x**2 * y**3 + 1/x + y**2 * x + 7\n",
    "d1 = diff(fx, x).evalf(subs = {x: 1, y: 2})\n",
    "d2 = diff(fx, y).evalf(subs = {x: 1, y: 2}) \n",
    "print(f'Градиент в точке 1, 2 равен({d1}, {d2})')"
   ]
  },
  {
   "cell_type": "markdown",
   "id": "d31a2a5a",
   "metadata": {},
   "source": [
    "- Задание 3\n",
    "\n",
    "\n",
    "Постройте трехмерный график функции"
   ]
  },
  {
   "cell_type": "code",
   "execution_count": 85,
   "id": "83061cae",
   "metadata": {},
   "outputs": [],
   "source": [
    "x1 = Symbol('x1')\n",
    "x2 = Symbol('x2')\n"
   ]
  },
  {
   "cell_type": "code",
   "execution_count": 126,
   "id": "dc363bb1",
   "metadata": {},
   "outputs": [],
   "source": [
    "delta = 0.025\n",
    "x1 = np.arange(-4.0, 6.0, delta)\n",
    "x2 = np.arange(-5.0, 5.0, delta)\n",
    "x1, x2 = np.meshgrid(x1, x2)\n",
    "z = x2**2 - x1**2 * x1**2 * x2 + 2 * x1 * x2\n"
   ]
  },
  {
   "cell_type": "code",
   "execution_count": 125,
   "id": "ef5bc920",
   "metadata": {},
   "outputs": [
    {
     "name": "stderr",
     "output_type": "stream",
     "text": [
      "/var/folders/0l/5d6rpb6j07zbqghq7qmrdvgw0000gn/T/ipykernel_94141/1098961793.py:2: MatplotlibDeprecationWarning: Calling gca() with keyword arguments was deprecated in Matplotlib 3.4. Starting two minor releases later, gca() will take no keyword arguments. The gca() function should only be used to get the current axes, or if no axes exist, create new axes with default keyword arguments. To create a new axes with non-default arguments, use plt.axes() or plt.subplot().\n",
      "  ax = fig.gca(projection = '3d')\n"
     ]
    },
    {
     "data": {
      "image/png": "[encoded data removed]",
      "text/plain": [
       "<Figure size 432x288 with 2 Axes>"
      ]
     },
     "metadata": {
      "needs_background": "light"
     },
     "output_type": "display_data"
    }
   ],
   "source": [
    "fig = plt.figure() \n",
    "ax = fig.gca(projection = '3d')\n",
    "\n",
    "\n",
    "surf = ax.plot_surface(x1, x2, z, cmap = cm.hot, linewidth = 1, antialiased = False)\n",
    "\n",
    "fig.colorbar(surf, shrink = 0.5, aspect = 5)\n",
    "\n",
    "ax.set_zlim(z.min(), z.max())\n",
    "\n",
    "ax.azim = 15\n",
    "ax.dist = 10\n",
    "ax.elev = 10\n",
    "\n",
    "plt.show()\n"
   ]
  },
  {
   "cell_type": "code",
   "execution_count": null,
   "id": "5e17364e",
   "metadata": {},
   "outputs": [],
   "source": []
  }
 ],
 "metadata": {
  "kernelspec": {
   "display_name": "Python 3 (ipykernel)",
   "language": "python",
   "name": "python3"
  },
  "language_info": {
   "codemirror_mode": {
    "name": "ipython",
    "version": 3
   },
   "file_extension": ".py",
   "mimetype": "text/x-python",
   "name": "python",
   "nbconvert_exporter": "python",
   "pygments_lexer": "ipython3",
   "version": "3.9.7"
  }
 },
 "nbformat": 4,
 "nbformat_minor": 5
}
